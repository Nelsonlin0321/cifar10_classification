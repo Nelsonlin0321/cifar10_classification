{
 "cells": [
  {
   "cell_type": "markdown",
   "metadata": {},
   "source": [
    "cifar10官网：\n",
    "https://www.cs.toronto.edu/~kriz/cifar.html"
   ]
  },
  {
   "cell_type": "code",
   "execution_count": 1,
   "metadata": {},
   "outputs": [
    {
     "name": "stderr",
     "output_type": "stream",
     "text": [
      "Using TensorFlow backend.\n"
     ]
    }
   ],
   "source": [
    "import tensorflow as tf\n",
    "import numpy as np\n",
    "import tensorflow.contrib.slim as slim\n",
    "# pip install keras\n",
    "from keras.datasets import cifar10\n",
    "import matplotlib.pyplot as plt"
   ]
  },
  {
   "cell_type": "markdown",
   "metadata": {},
   "source": [
    "### 定义参数"
   ]
  },
  {
   "cell_type": "code",
   "execution_count": 2,
   "metadata": {},
   "outputs": [],
   "source": [
    "# 设置最大迭代周期数\n",
    "epochs = 100\n",
    "# 设置每次训练的批次大小\n",
    "batch_size = 128\n",
    "# 分类数\n",
    "num_classes = 10"
   ]
  },
  {
   "cell_type": "code",
   "execution_count": 3,
   "metadata": {},
   "outputs": [],
   "source": [
    "# 定义模型的输入和标签的placeholder\n",
    "image_holder = tf.placeholder(dtype=tf.float32,shape=[None,32,32,3])\n",
    "label_holder = tf.placeholder(dtype=tf.int64,shape=[None])"
   ]
  },
  {
   "cell_type": "markdown",
   "metadata": {},
   "source": [
    "### 载入数据，数据处理"
   ]
  },
  {
   "cell_type": "code",
   "execution_count": 4,
   "metadata": {},
   "outputs": [],
   "source": [
    "# 载入数据\n",
    "(x_train,y_train),(x_test,y_test) = cifar10.load_data()"
   ]
  },
  {
   "cell_type": "code",
   "execution_count": 5,
   "metadata": {},
   "outputs": [
    {
     "data": {
      "text/plain": [
       "(50000, 32, 32, 3)"
      ]
     },
     "execution_count": 5,
     "metadata": {},
     "output_type": "execute_result"
    }
   ],
   "source": [
    "x_train.shape "
   ]
  },
  {
   "cell_type": "code",
   "execution_count": 6,
   "metadata": {},
   "outputs": [],
   "source": [
    "y_train = np.squeeze(y_train)\n",
    "y_test = np.squeeze(y_test)"
   ]
  },
  {
   "cell_type": "code",
   "execution_count": 7,
   "metadata": {},
   "outputs": [],
   "source": [
    "# 数据归一化\n",
    "x_train = x_train/255.0\n",
    "x_test = x_test/255.0"
   ]
  },
  {
   "cell_type": "code",
   "execution_count": 8,
   "metadata": {},
   "outputs": [
    {
     "name": "stdout",
     "output_type": "stream",
     "text": [
      "(50000, 32, 32, 3)\n",
      "(50000,)\n"
     ]
    }
   ],
   "source": [
    "print(x_train.shape)\n",
    "print(y_train.shape)"
   ]
  },
  {
   "cell_type": "markdown",
   "metadata": {},
   "source": [
    "### 查看图片"
   ]
  },
  {
   "cell_type": "code",
   "execution_count": 9,
   "metadata": {},
   "outputs": [
    {
     "data": {
      "text/plain": [
       "<matplotlib.image.AxesImage at 0x2553cb883c8>"
      ]
     },
     "execution_count": 9,
     "metadata": {},
     "output_type": "execute_result"
    },
    {
     "data": {
      "text/plain": [
       "(-0.5, 31.5, 31.5, -0.5)"
      ]
     },
     "execution_count": 9,
     "metadata": {},
     "output_type": "execute_result"
    },
    {
     "data": {
      "text/plain": [
       "Text(0.5,1,'frog')"
      ]
     },
     "execution_count": 9,
     "metadata": {},
     "output_type": "execute_result"
    },
    {
     "data": {
      "image/png": "[encoded data removed]",
      "text/plain": [
       "<matplotlib.figure.Figure at 0x2553cb2c0f0>"
      ]
     },
     "metadata": {},
     "output_type": "display_data"
    }
   ],
   "source": [
    "n = 0\n",
    "target_name = ['airplane','automobile','bird','cat','deer','dog','frog','horse','ship','truck']\n",
    "plt.imshow(x_train[n])\n",
    "plt.axis('off')\n",
    "plt.title(target_name[y_train[n]])\n",
    "plt.show()"
   ]
  },
  {
   "cell_type": "markdown",
   "metadata": {},
   "source": [
    "### 设置dataset对象和迭代器对象"
   ]
  },
  {
   "cell_type": "code",
   "execution_count": 10,
   "metadata": {},
   "outputs": [],
   "source": [
    "# 创建dataset对象\n",
    "dataset = tf.data.Dataset.from_tensor_slices((image_holder, label_holder))"
   ]
  },
  {
   "cell_type": "code",
   "execution_count": 11,
   "metadata": {},
   "outputs": [],
   "source": [
    "# 训练周期\n",
    "dataset = dataset.repeat(1)"
   ]
  },
  {
   "cell_type": "code",
   "execution_count": 12,
   "metadata": {},
   "outputs": [],
   "source": [
    "# 批次大小\n",
    "dataset = dataset.batch(batch_size)"
   ]
  },
  {
   "cell_type": "code",
   "execution_count": 13,
   "metadata": {},
   "outputs": [],
   "source": [
    "# 初始化迭代器\n",
    "iterator = dataset.make_initializable_iterator()\n",
    "# 获得一个批次数据和标签\n",
    "data_batch, label_batch = iterator.get_next()"
   ]
  },
  {
   "cell_type": "markdown",
   "metadata": {},
   "source": [
    "### 定义模型"
   ]
  },
  {
   "cell_type": "code",
   "execution_count": 14,
   "metadata": {},
   "outputs": [],
   "source": [
    "# 初始化权值\n",
    "def weight_variable(shape):\n",
    "    initial = tf.truncated_normal(shape,stddev=0.1)\n",
    "    return tf.Variable(initial)\n",
    "\n",
    "# 初始化偏置\n",
    "def bias_variable(shape):\n",
    "    initial = tf.constant(0.1,shape=shape)\n",
    "    return tf.Variable(initial)"
   ]
  },
  {
   "cell_type": "code",
   "execution_count": 15,
   "metadata": {},
   "outputs": [],
   "source": [
    "# 卷积层\n",
    "def conv2d(x,W):\n",
    "    #x input tensor of shape `[batch, in_height, in_width, in_channels]`\n",
    "    #W filter / kernel tensor of shape [filter_height, filter_width, in_channels, out_channels] ### 卷积核的权值矩阵\n",
    "    #`strides[0] = strides[3] = 1`. strides[1]代表x方向的步长，strides[2]代表y方向的步长\n",
    "    #padding: A `string` from: `\"SAME\", \"VALID\"`\n",
    "    return tf.nn.conv2d(x,W,strides=[1,1,1,1],padding='SAME')\n",
    "\n",
    "# 池化层\n",
    "def max_pool_2x2(x):\n",
    "    #x input tensor of shape `[batch, in_height, in_width, in_channels]\n",
    "    #ksize [1,x,y,1]\n",
    "    return tf.nn.max_pool(x,ksize=[1,2,2,1],strides=[1,2,2,1],padding='SAME')"
   ]
  },
  {
   "cell_type": "code",
   "execution_count": 16,
   "metadata": {},
   "outputs": [],
   "source": [
    "def cifar10(inputs):\n",
    "    \n",
    "    ## 一层\n",
    "    # 4*4 卷积 - 2*2 池化\n",
    "\n",
    "    W_conv1 = weight_variable([4,4,3,32])\n",
    "    b_conv1 = bias_variable([32]) \n",
    " \n",
    "    h_conv1 = tf.nn.relu(conv2d(inputs,W_conv1) + b_conv1)\n",
    "    h_pool1 = max_pool_2x2(h_conv1)\n",
    "    #(batch_size,16,16,32)\n",
    "    \n",
    "    ## 第二层\n",
    "    W_conv2 = weight_variable([4,4,32,64])\n",
    "    b_conv2 = bias_variable([64]) \n",
    " \n",
    "    h_conv2 = tf.nn.relu(conv2d(h_pool1,W_conv2) + b_conv2)\n",
    "    h_pool2 = max_pool_2x2(h_conv2)\n",
    "    #(batch_size,8,8,64)\n",
    "    \n",
    "    ### 第三层\n",
    "    W_conv3 = weight_variable([4,4,64,128])\n",
    "    b_conv3 = bias_variable([128]) \n",
    " \n",
    "    h_conv3 = tf.nn.relu(conv2d(h_pool2,W_conv3) + b_conv3)\n",
    "    h_pool3 = max_pool_2x2(h_conv3)\n",
    "    #(batch_size,4,4,128)\n",
    "    \n",
    "    ## 扁平化\n",
    "\n",
    "    h_pool3_flat = tf.reshape(h_pool3,[-1,4*4*128])\n",
    "    \n",
    "    #全连接层\n",
    "    #第一层\n",
    "    W_fc1 = weight_variable([4*4*128,256])\n",
    "    b_fc1 = bias_variable([256])\n",
    "\n",
    "\n",
    "    # 求第一个全连接层的输出\n",
    "    h_fc1 = tf.nn.relu(tf.matmul(h_pool3_flat,W_fc1) + b_fc1)\n",
    "    \n",
    "    \n",
    "    ##第二层\n",
    "    W_fc2 = weight_variable([256,10])\n",
    "    b_fc2 = bias_variable([10])\n",
    "\n",
    "\n",
    "    # 求第二个全连接层的输出\n",
    "    h_fc2 = tf.nn.relu(tf.matmul(h_fc1,W_fc2) + b_fc2)\n",
    "    \n",
    "    ### softmax层\n",
    "    net = tf.nn.softmax(h_fc2 )\n",
    "    \n",
    "#     with slim.arg_scope([slim.conv2d, slim.fully_connected],\n",
    "#                          activation_fn=tf.nn.relu,\n",
    "#                         weights_initializer=tf.glorot_uniform_initializer(),\n",
    "#                          biases_initializer=tf.constant_initializer(0)):\n",
    "#         net = slim.conv2d(inputs, 64, [3, 3])\n",
    "#         net = slim.conv2d(net, 64, [3, 3])\n",
    "#         net = slim.max_pool2d(net, [2, 2])\n",
    "#         net = slim.conv2d(net, 128, [3, 3])\n",
    "#         net = slim.conv2d(net, 128, [3, 3])\n",
    "#         net = slim.max_pool2d(net, [2, 2])\n",
    "#         net = slim.conv2d(net, 256, [3, 3])\n",
    "#         net = slim.conv2d(net, 256, [3, 3])\n",
    "#         net = slim.max_pool2d(net, [2, 2])\n",
    "\n",
    "#         # 数据扁平化\n",
    "#         net = slim.flatten(net)\n",
    "#         net = slim.fully_connected(net, 256)\n",
    "#         net = slim.fully_connected(net, num_classes, activation_fn=tf.nn.softmax)\n",
    "\n",
    "    return net"
   ]
  },
  {
   "cell_type": "markdown",
   "metadata": {},
   "source": [
    "### 模型训练"
   ]
  },
  {
   "cell_type": "code",
   "execution_count": 17,
   "metadata": {},
   "outputs": [
    {
     "name": "stdout",
     "output_type": "stream",
     "text": [
      "0:test_loss=2.1320  test_accuracy=0.3295\n",
      "1:test_loss=2.0840  test_accuracy=0.3800\n",
      "2:test_loss=2.0687  test_accuracy=0.3951\n",
      "3:test_loss=2.0577  test_accuracy=0.4059\n",
      "4:test_loss=2.0477  test_accuracy=0.4135\n",
      "5:test_loss=2.0429  test_accuracy=0.4176\n",
      "6:test_loss=2.0330  test_accuracy=0.4276\n",
      "7:test_loss=2.0261  test_accuracy=0.4328\n",
      "8:test_loss=2.0081  test_accuracy=0.4518\n",
      "9:test_loss=2.0031  test_accuracy=0.4619\n",
      "10:test_loss=1.9996  test_accuracy=0.4626\n",
      "11:test_loss=1.9951  test_accuracy=0.4658\n",
      "12:test_loss=1.9898  test_accuracy=0.4732\n",
      "13:test_loss=1.9855  test_accuracy=0.4781\n",
      "14:test_loss=1.9787  test_accuracy=0.4834\n",
      "15:test_loss=1.9749  test_accuracy=0.4891\n",
      "16:test_loss=1.9732  test_accuracy=0.4874\n",
      "17:test_loss=1.9722  test_accuracy=0.4880\n",
      "18:test_loss=1.9707  test_accuracy=0.4909\n",
      "19:test_loss=1.9671  test_accuracy=0.4941\n",
      "20:test_loss=1.9650  test_accuracy=0.4954\n",
      "21:test_loss=1.9644  test_accuracy=0.4954\n",
      "22:test_loss=1.9636  test_accuracy=0.4959\n",
      "23:test_loss=1.9647  test_accuracy=0.4967\n",
      "24:test_loss=1.9676  test_accuracy=0.4910\n",
      "25:test_loss=1.9644  test_accuracy=0.4950\n",
      "26:test_loss=1.9629  test_accuracy=0.4947\n",
      "27:test_loss=1.9615  test_accuracy=0.4973\n",
      "28:test_loss=1.9614  test_accuracy=0.4976\n",
      "29:test_loss=1.9612  test_accuracy=0.4986\n",
      "30:test_loss=1.9480  test_accuracy=0.5115\n",
      "31:test_loss=1.9263  test_accuracy=0.5353\n",
      "32:test_loss=1.9158  test_accuracy=0.5427\n",
      "33:test_loss=1.9102  test_accuracy=0.5484\n",
      "34:test_loss=1.9056  test_accuracy=0.5553\n",
      "35:test_loss=1.9085  test_accuracy=0.5526\n",
      "36:test_loss=1.9106  test_accuracy=0.5483\n",
      "37:test_loss=1.9108  test_accuracy=0.5475\n",
      "38:test_loss=1.9049  test_accuracy=0.5564\n",
      "39:test_loss=1.9039  test_accuracy=0.5558\n",
      "40:test_loss=1.8707  test_accuracy=0.5917\n",
      "41:test_loss=1.8544  test_accuracy=0.6080\n"
     ]
    },
    {
     "data": {
      "text/plain": [
       "'models/cifar10.ckpt-100'"
      ]
     },
     "execution_count": 17,
     "metadata": {},
     "output_type": "execute_result"
    }
   ],
   "source": [
    "with tf.Session() as sess:\n",
    "    # 传入数据得到结果\n",
    "    prediction = cifar10(data_batch)\n",
    "    # 定义loss\n",
    "    # sparse_softmax_cross_entropy：标签为整数\n",
    "    # softmax_cross_entropy：标签为one-hot独热编码\n",
    "    loss = tf.losses.sparse_softmax_cross_entropy(labels=label_batch, logits=prediction)\n",
    "    # 优化器\n",
    "    optimizer = tf.train.AdamOptimizer(0.0001).minimize(loss)\n",
    "    # 预测值里面概率最大的结果，跟真实标签数值相同就会得到True\n",
    "    correct = tf.nn.in_top_k(prediction, label_batch, 1) \n",
    "    # 求准确率\n",
    "    accuracy = tf.reduce_mean(tf.cast(correct, tf.float32))\n",
    "  \n",
    "    # 所有变量初始化  \n",
    "    sess.run(tf.global_variables_initializer()) \n",
    "    # 定义saver保存模型\n",
    "    saver = tf.train.Saver()\n",
    "    # 训练epochs个周期\n",
    "    for i in range(epochs):\n",
    "        # 训练集传入迭代器中\n",
    "        sess.run(iterator.initializer, feed_dict={image_holder: x_train,\n",
    "                                                  label_holder: y_train})\n",
    "        # 训练模型\n",
    "        while True:\n",
    "            try:\n",
    "                sess.run(optimizer)\n",
    "            except tf.errors.OutOfRangeError:\n",
    "                # 所有数据训练完毕后跳出循环\n",
    "                break\n",
    "        # 测试集放入迭代器中\n",
    "        sess.run(iterator.initializer, feed_dict={image_holder: x_test,\n",
    "                                                  label_holder: y_test})\n",
    "        # 测试结果\n",
    "        while True:\n",
    "            try:\n",
    "                # 获得准确率和loss值\n",
    "                acc,l = sess.run([accuracy,loss])\n",
    "                # loss值统计\n",
    "                tf.add_to_collection('sum_losses', l)\n",
    "                # 准确率统计\n",
    "                tf.add_to_collection('accuracy', acc)\n",
    "            except tf.errors.OutOfRangeError:\n",
    "                # loss值求平均\n",
    "                avg_loss = sess.run(tf.reduce_mean(tf.get_collection('sum_losses')))\n",
    "                # 准确率求平均\n",
    "                avg_acc = sess.run(tf.reduce_mean(tf.get_collection('accuracy')))\n",
    "                print('%d:test_loss=%.4f  test_accuracy=%.4f' % (i,avg_loss,avg_acc))\n",
    "                # 清空loss统计\n",
    "                temp = tf.get_collection_ref('sum_losses')\n",
    "                del temp[:]\n",
    "                # 清空准确率统计\n",
    "                temp = tf.get_collection_ref('accuracy')\n",
    "                del temp[:]\n",
    "                # 所有数据测试完毕后跳出循环\n",
    "                break\n",
    "        if avg_acc>0.6:\n",
    "            break\n",
    "        \n",
    "    # 保存模型\n",
    "    saver.save(sess, 'models/cifar10.ckpt', global_step = epochs)\n",
    "\n"
   ]
  },
  {
   "cell_type": "code",
   "execution_count": null,
   "metadata": {
    "collapsed": true
   },
   "outputs": [],
   "source": []
  },
  {
   "cell_type": "code",
   "execution_count": null,
   "metadata": {
    "collapsed": true
   },
   "outputs": [],
   "source": []
  }
 ],
 "metadata": {
  "kernelspec": {
   "display_name": "py36-gpu",
   "language": "python",
   "name": "py36-gpu"
  },
  "language_info": {
   "codemirror_mode": {
    "name": "ipython",
    "version": 3
   },
   "file_extension": ".py",
   "mimetype": "text/x-python",
   "name": "python",
   "nbconvert_exporter": "python",
   "pygments_lexer": "ipython3",
   "version": "3.6.7"
  }
 },
 "nbformat": 4,
 "nbformat_minor": 2
}
