{
 "cells": [
  {
   "cell_type": "markdown",
   "metadata": {},
   "source": [
    "cifar10官网：\n",
    "https://www.cs.toronto.edu/~kriz/cifar.html"
   ]
  },
  {
   "cell_type": "code",
   "execution_count": null,
   "metadata": {},
   "outputs": [],
   "source": [
    "import tensorflow as tf\n",
    "import numpy as np\n",
    "import tensorflow.contrib.slim as slim\n",
    "# pip install keras\n",
    "from keras.datasets import cifar10\n",
    "import matplotlib.pyplot as plt"
   ]
  },
  {
   "cell_type": "markdown",
   "metadata": {},
   "source": [
    "### 定义参数"
   ]
  },
  {
   "cell_type": "code",
   "execution_count": null,
   "metadata": {
    "collapsed": true
   },
   "outputs": [],
   "source": [
    "#设置最大迭代次数\n",
    "epochs = 100\n",
    "#设置每次训练的数据大小\n",
    "batch_size = 128\n",
    "# 分类数\n",
    "num_classes = 10\n",
    "# 定义模型的输入和标签的placeholder\n",
    "image_holder = tf.placeholder(dtype=tf.float32,shape=[None,32,32,3])\n",
    "label_holder = tf.placeholder(dtype=tf.int64,shape=[None])"
   ]
  },
  {
   "cell_type": "markdown",
   "metadata": {},
   "source": [
    "### 载入数据，数据处理"
   ]
  },
  {
   "cell_type": "code",
   "execution_count": null,
   "metadata": {},
   "outputs": [],
   "source": [
    "# 载入数据\n",
    "(x_train,y_train),(x_test,y_test) = cifar10.load_data()\n",
    "\n",
    "y_train = np.squeeze(y_train)\n",
    "y_test = np.squeeze(y_test)\n",
    "# 数据归一化\n",
    "x_train = x_train/255.0\n",
    "x_test = x_test/255.0\n",
    "\n",
    "print(x_train.shape)\n",
    "print(y_train.shape)"
   ]
  },
  {
   "cell_type": "markdown",
   "metadata": {},
   "source": [
    "### 查看图片"
   ]
  },
  {
   "cell_type": "code",
   "execution_count": null,
   "metadata": {},
   "outputs": [],
   "source": [
    "n = 0\n",
    "target_name = ['airplane','automobile','bird','cat','deer','dog','frog','horse','ship','truck']\n",
    "plt.imshow(x_train[n])\n",
    "plt.axis('off')\n",
    "plt.title(target_name[y_train[n]])\n",
    "plt.show()"
   ]
  },
  {
   "cell_type": "markdown",
   "metadata": {},
   "source": [
    "### 定义模型"
   ]
  },
  {
   "cell_type": "code",
   "execution_count": null,
   "metadata": {
    "collapsed": true
   },
   "outputs": [],
   "source": [
    "def cifar10(inputs):\n",
    "\n",
    "    (batch,10)\n",
    "    return net"
   ]
  },
  {
   "cell_type": "markdown",
   "metadata": {},
   "source": [
    "### 设置dataset对象和迭代器对象"
   ]
  },
  {
   "cell_type": "code",
   "execution_count": null,
   "metadata": {
    "collapsed": true
   },
   "outputs": [],
   "source": [
    "# 创建dataset对象\n",
    "dataset = tf.data.Dataset.from_tensor_slices((image_holder, label_holder))\n",
    "# 训练周期\n",
    "dataset = dataset.repeat(1)\n",
    "# 批次大小\n",
    "dataset = dataset.batch(batch_size)\n",
    "# 初始化迭代器\n",
    "iterator = dataset.make_initializable_iterator()\n",
    "# 获得一个批次数据和标签\n",
    "data_batch, label_batch = iterator.get_next()"
   ]
  },
  {
   "cell_type": "markdown",
   "metadata": {},
   "source": [
    "### 模型训练"
   ]
  },
  {
   "cell_type": "code",
   "execution_count": null,
   "metadata": {},
   "outputs": [],
   "source": [
    "with tf.Session() as sess:\n",
    "    # 传入数据得到结果\n",
    "    prediction = cifar10(data_batch)\n",
    "    # 定义loss\n",
    "    # sparse_softmax_cross_entropy：标签为整数\n",
    "    # softmax_cross_entropy：标签为one-hot独热编码\n",
    "    loss = tf.losses.sparse_softmax_cross_entropy(labels=label_batch, logits=prediction)\n",
    "    # 优化器\n",
    "    optimizer = tf.train.AdamOptimizer(0.0001).minimize(loss)\n",
    "    # 预测值里面概率最大的结果，跟真实标签数值相同就会得到True\n",
    "    correct = tf.nn.in_top_k(prediction, label_batch, 1) \n",
    "    # 求准确率\n",
    "    accuracy = tf.reduce_mean(tf.cast(correct, tf.float32))\n",
    "  \n",
    "    # 所有变量初始化  \n",
    "    sess.run(tf.global_variables_initializer()) \n",
    "    # 定义saver保存模型\n",
    "    saver = tf.train.Saver()\n",
    "    # 训练epochs个周期\n",
    "    for i in range(epochs):\n",
    "        # 训练集传入迭代器中\n",
    "        sess.run(iterator.initializer, feed_dict={image_holder: x_train,\n",
    "                                                  label_holder: y_train})\n",
    "        # 训练模型\n",
    "        while True:\n",
    "            try:\n",
    "                sess.run(optimizer)\n",
    "            except tf.errors.OutOfRangeError:\n",
    "                # 所有数据训练完毕后跳出循环\n",
    "                break\n",
    "        # 测试集放入迭代器中\n",
    "        sess.run(iterator.initializer, feed_dict={image_holder: x_test,\n",
    "                                                  label_holder: y_test})\n",
    "        # 测试结果\n",
    "        while True:\n",
    "            try:\n",
    "                # 获得准确率和loss值\n",
    "                acc,l = sess.run([accuracy,loss])\n",
    "                # loss值统计\n",
    "                tf.add_to_collection('sum_losses', l)\n",
    "                # 准确率统计\n",
    "                tf.add_to_collection('accuracy', acc)\n",
    "            except tf.errors.OutOfRangeError:\n",
    "                # loss值求平均\n",
    "                avg_loss = sess.run(tf.reduce_mean(tf.get_collection('sum_losses')))\n",
    "                # 准确率求平均\n",
    "                avg_acc = sess.run(tf.reduce_mean(tf.get_collection('accuracy')))\n",
    "                print('%d:test_loss=%.4f  test_accuracy=%.4f' % (i,avg_loss,avg_acc))\n",
    "                # 清空loss统计\n",
    "                temp = tf.get_collection_ref('sum_losses')\n",
    "                del temp[:]\n",
    "                # 清空准确率统计\n",
    "                temp = tf.get_collection_ref('accuracy')\n",
    "                del temp[:]\n",
    "                # 所有数据测试完毕后跳出循环\n",
    "                break\n",
    "        \n",
    "    # 保存模型\n",
    "    saver.save(sess, 'models/cifar10.ckpt', global_step = epochs)\n",
    "\n"
   ]
  },
  {
   "cell_type": "code",
   "execution_count": null,
   "metadata": {
    "collapsed": true
   },
   "outputs": [],
   "source": []
  },
  {
   "cell_type": "code",
   "execution_count": null,
   "metadata": {
    "collapsed": true
   },
   "outputs": [],
   "source": []
  }
 ],
 "metadata": {
  "kernelspec": {
   "display_name": "Python 3",
   "language": "python",
   "name": "python3"
  },
  "language_info": {
   "codemirror_mode": {
    "name": "ipython",
    "version": 3
   },
   "file_extension": ".py",
   "mimetype": "text/x-python",
   "name": "python",
   "nbconvert_exporter": "python",
   "pygments_lexer": "ipython3",
   "version": "3.6.5"
  }
 },
 "nbformat": 4,
 "nbformat_minor": 2
}
